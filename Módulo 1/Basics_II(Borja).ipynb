{
 "cells": [
  {
   "cell_type": "markdown",
   "metadata": {},
   "source": [
    "![imagen](./img/python.jpg)"
   ]
  },
  {
   "cell_type": "markdown",
   "metadata": {},
   "source": [
    "# Python Basics II\n",
    "\n",
    "\n",
    "Ya hemos visto cómo declarar variables, qué tipos hay, y otras funcionalidades importantes de Python como sus flujos de ejecución o las formas que tenemos de comentar el código. En este Notebook aprenderás a realizar **operaciones con tus variables** y descubrirás las colecciones mediante uno de los objetos más usados en Python: **las listas**.\n",
    "\n",
    "1. [Operaciones aritméticas](#1-operaciones-aritméticas)\n",
    "2. [Operaciones comparativas](#2-operaciones-comparativas)\n",
    "3. [Operaciones con booleanos](#3-operaciones-con-booleanos)\n",
    "4. [Funciones *Built-in*](#4-funciones-built-in)\n",
    "5. [Métodos](#5-métodos)\n",
    "6. [Listas](#6-listas)\n",
    "7. [Resumen](#7-resumen)"
   ]
  },
  {
   "cell_type": "markdown",
   "metadata": {},
   "source": [
    "## 1. Operaciones aritméticas\n",
    "En el Notebook *Python Basics I* ya vimos por encima las principales operaciones aritméticas en Python. Las recordamos:\n",
    "* Sumar: `+`\n",
    "* Restar: `-`\n",
    "* Multiplicar: `*`\n",
    "* Dividir: `/`\n",
    "* Elevar: `**`\n",
    "* Cociente division: `//`\n",
    "* Resto de la división: `%`"
   ]
  },
  {
   "cell_type": "markdown",
   "metadata": {},
   "source": [
    "<table align=\"left\">\n",
    " <tr><td width=\"80\"><img src=\"./img/ejercicio.png\" style=\"width:auto;height:auto\"></td>\n",
    "     <td style=\"text-align:left\">\n",
    "         <h3>Ejercicio de operaciones aritméticas</h3>\n",
    "\n",
    "      \n",
    "<ol>\n",
    "    <li>Declara una variable int</li>\n",
    "    <li>Declara otra variable float.</li>\n",
    "    <li>Suma ambas variables. ¿Qué tipo de dato es el resultado?</li>\n",
    "    <li>Multiplica ambas variables</li>\n",
    "    <li>Eleva una variable a la potencia de la otra</li>\n",
    "    <li>Calcula el resto de dividir 12/5</li>\n",
    "</ol>\n",
    "         \n",
    " </td></tr>\n",
    "</table>"
   ]
  },
  {
   "cell_type": "code",
   "execution_count": 18,
   "metadata": {},
   "outputs": [
    {
     "name": "stdout",
     "output_type": "stream",
     "text": [
      "23\n",
      "3.2\n",
      "26.2\n",
      "<class 'float'>\n",
      "73.60000000000001\n",
      "<class 'float'>\n",
      "415383748682.78674\n",
      "2\n"
     ]
    }
   ],
   "source": [
    "x = int(23)\n",
    "z = float(3.2)\n",
    "\n",
    "print (x)\n",
    "print (z)\n",
    "\n",
    "y= x + z\n",
    "\n",
    "print(y)\n",
    "print(type(y))\n",
    "\n",
    "m = x * z \n",
    "print(m)\n",
    "print(type(m))\n",
    "\n",
    "elevado = z** x\n",
    "print (elevado)\n",
    "\n",
    "resto = 12 % 5\n",
    "print(resto)\n",
    "\n",
    "\n"
   ]
  },
  {
   "cell_type": "markdown",
   "metadata": {},
   "source": [
    "### Propiedad conmutativa, asociativa, distributiva y el paréntesis\n",
    "Si queremos concatenar varias operaciones, ten siempre en cuenta las propiedades matemáticas de la multiplicación\n",
    "\n",
    "---\n",
    "\n",
    "####  Propiedad Conmutativa\n",
    "El orden de los números **no cambia el resultado**.  \n",
    "- Ejemplo:  \n",
    "  - Suma → 3 + 5 = 5 + 3  \n",
    "  - Multiplicación → 4 × 2 = 2 × 4  \n",
    "\n",
    "---\n",
    "\n",
    "####  Propiedad Asociativa\n",
    "La forma de **agrupar los números** no cambia el resultado.  \n",
    "- Ejemplo:  \n",
    "  - (2 + 3) + 4 = 2 + (3 + 4)  \n",
    "  - (2 × 5) × 3 = 2 × (5 × 3)  \n",
    "\n",
    "---\n",
    "\n",
    "####  Propiedad Distributiva\n",
    "Un número que multiplica a una suma o resta se reparte entre los términos.  \n",
    "- Ejemplo:  \n",
    "  - 2 × (3 + 4) = (2 × 3) + (2 × 4)  \n",
    "\n",
    "---\n",
    "\n",
    "####  Orden de Operaciones y Uso de Paréntesis\n",
    "Para resolver operaciones seguimos este orden:  \n",
    "1. **Paréntesis**  \n",
    "2. **Potencias y raíces**  \n",
    "3. **Multiplicaciones y divisiones** (de izquierda a derecha)  \n",
    "4. **Sumas y restas** (de izquierda a derecha)  \n",
    "\n",
    "- Ejemplo:  \n",
    "  - 2 + 3 × (4 + 1)  \n",
    "  - Primero paréntesis: 2 + 3 × 5  \n",
    "  - Luego multiplicación: 2 + 15  \n",
    "  - Finalmente suma: **17**  \n"
   ]
  },
  {
   "cell_type": "code",
   "execution_count": 19,
   "metadata": {},
   "outputs": [
    {
     "name": "stdout",
     "output_type": "stream",
     "text": [
      "Conmutativa\n",
      "6\n",
      "6\n",
      "\n",
      "Distributiva\n",
      "16\n",
      "16\n",
      "\n",
      "Asociativa\n",
      "30\n",
      "30\n",
      "\n",
      "El Orden de operaciones se mantiene. Siempre podemos usar paréntesis\n",
      "50\n",
      "19\n"
     ]
    }
   ],
   "source": [
    "# Demostración de las propiedades matemáticas en Python\n",
    "\n",
    "# PROPIEDAD CONMUTATIVA\n",
    "# La conmutativa dice que a * b = b * a (el orden de los factores no altera el producto)\n",
    "print(\"Conmutativa\")\n",
    "print(2 * 3)  # 2 multiplicado por 3\n",
    "print(3 * 2)  # 3 multiplicado por 2 (mismo resultado que arriba)\n",
    "\n",
    "# PROPIEDAD DISTRIBUTIVA  \n",
    "# La distributiva dice que a * (b + c) = a * b + a * c\n",
    "print(\"\\nDistributiva\") # Recuerda que \"\\n\" se usa para que haya un salto de linea en el output.\n",
    "print(2 * (3 + 5))      # Primero se suma 3 + 5 = 8, luego 2 * 8 = 16\n",
    "print(2 * 3 + 2 * 5)    # Se distribuye: (2 * 3) + (2 * 5) = 6 + 10 = 16\n",
    "\n",
    "# PROPIEDAD ASOCIATIVA\n",
    "# La asociativa dice que (a * b) * c = a * (b * c) (cómo agrupamos no importa)\n",
    "print(\"\\nAsociativa\")\n",
    "print((3 * 2) * 5)  # Primero 3 * 2 = 6, luego 6 * 5 = 30\n",
    "print(3 * (2 * 5))  # Primero 2 * 5 = 10, luego 3 * 10 = 30\n",
    "\n",
    "# ORDEN DE OPERACIONES Y USO DE PARÉNTESIS\n",
    "# Los paréntesis alteran el orden natural de las operaciones\n",
    "print(\"\\nEl Orden de operaciones se mantiene. Siempre podemos usar paréntesis\")\n",
    "print(2 * (2 + 3) * 5)   # Correcto: 2 * 5 * 5 = 50\n",
    "print((2 * 2 + 3 * 5))   # Incorrecto para demostrar la distributiva: 4 + 15 = 19"
   ]
  },
  {
   "cell_type": "markdown",
   "metadata": {},
   "source": [
    "### Operaciones más complejas\n",
    "Si salimos de las operaciones básicas de Python, tendremos que importar módulos con más funcionalidades en nuestro código. Esto lo haremos mediante la sentencia `import math`. `math` es un módulo con funciones ya predefinidas, que no vienen por defecto en el núcleo de Python. De esta forma será posible hacer cálculos más complejos como:\n",
    "\n",
    "* Raíz cuadrada\n",
    "* Seno/Coseno\n",
    "* Valor absoluto\n",
    "*...\n",
    "\n",
    "El módulo es completísimo y si estás buscando alguna operación matemática, lo más seguro es que ya esté implementada. Te dejo por aquí el [link a la documentación del módulo.](https://docs.python.org/3/library/math.html)."
   ]
  },
  {
   "cell_type": "code",
   "execution_count": 22,
   "metadata": {},
   "outputs": [],
   "source": [
    "#import math\n",
    "\n",
    "import math as m \n",
    "\n",
    "import numpy as np"
   ]
  },
  {
   "cell_type": "code",
   "execution_count": null,
   "metadata": {},
   "outputs": [
    {
     "name": "stdout",
     "output_type": "stream",
     "text": [
      "Collecting numpy\n",
      "  Downloading numpy-2.3.3-cp311-cp311-macosx_14_0_arm64.whl (5.4 MB)\n",
      "\u001b[2K     \u001b[90m━━━━━━━━━━━━━━━━━━━━━━━━━━━━━━━━━━━━━━━━\u001b[0m \u001b[32m5.4/5.4 MB\u001b[0m \u001b[31m30.6 MB/s\u001b[0m eta \u001b[36m0:00:00\u001b[0ma \u001b[36m0:00:01\u001b[0m\n",
      "\u001b[?25hInstalling collected packages: numpy\n",
      "Successfully installed numpy-2.3.3\n",
      "\n",
      "\u001b[1m[\u001b[0m\u001b[34;49mnotice\u001b[0m\u001b[1;39;49m]\u001b[0m\u001b[39;49m A new release of pip is available: \u001b[0m\u001b[31;49m23.1.2\u001b[0m\u001b[39;49m -> \u001b[0m\u001b[32;49m25.2\u001b[0m\n",
      "\u001b[1m[\u001b[0m\u001b[34;49mnotice\u001b[0m\u001b[1;39;49m]\u001b[0m\u001b[39;49m To update, run: \u001b[0m\u001b[32;49mpip3.11 install --upgrade pip\u001b[0m\n",
      "Note: you may need to restart the kernel to use updated packages.\n"
     ]
    }
   ],
   "source": [
    "\n",
    "pip install pandas \n"
   ]
  },
  {
   "cell_type": "code",
   "execution_count": 30,
   "metadata": {},
   "outputs": [
    {
     "name": "stdout",
     "output_type": "stream",
     "text": [
      "Collecting pandas\n",
      "  Downloading pandas-2.3.2-cp311-cp311-macosx_11_0_arm64.whl (10.8 MB)\n",
      "\u001b[2K     \u001b[90m━━━━━━━━━━━━━━━━━━━━━━━━━━━━━━━━━━━━━━━━\u001b[0m \u001b[32m10.8/10.8 MB\u001b[0m \u001b[31m42.8 MB/s\u001b[0m eta \u001b[36m0:00:00\u001b[0m00:01\u001b[0m0:01\u001b[0m\n",
      "\u001b[?25hRequirement already satisfied: numpy>=1.23.2 in /Library/Frameworks/Python.framework/Versions/3.11/lib/python3.11/site-packages (from pandas) (2.3.3)\n",
      "Requirement already satisfied: python-dateutil>=2.8.2 in /Users/reinerfuentesferrada/Library/Python/3.11/lib/python/site-packages (from pandas) (2.9.0.post0)\n",
      "Collecting pytz>=2020.1 (from pandas)\n",
      "  Downloading pytz-2025.2-py2.py3-none-any.whl (509 kB)\n",
      "\u001b[2K     \u001b[90m━━━━━━━━━━━━━━━━━━━━━━━━━━━━━━━━━━━━━━\u001b[0m \u001b[32m509.2/509.2 kB\u001b[0m \u001b[31m29.2 MB/s\u001b[0m eta \u001b[36m0:00:00\u001b[0m\n",
      "\u001b[?25hCollecting tzdata>=2022.7 (from pandas)\n",
      "  Downloading tzdata-2025.2-py2.py3-none-any.whl (347 kB)\n",
      "\u001b[2K     \u001b[90m━━━━━━━━━━━━━━━━━━━━━━━━━━━━━━━━━━━━━━\u001b[0m \u001b[32m347.8/347.8 kB\u001b[0m \u001b[31m13.3 MB/s\u001b[0m eta \u001b[36m0:00:00\u001b[0m\n",
      "\u001b[?25hRequirement already satisfied: six>=1.5 in /Users/reinerfuentesferrada/Library/Python/3.11/lib/python/site-packages (from python-dateutil>=2.8.2->pandas) (1.17.0)\n",
      "Installing collected packages: pytz, tzdata, pandas\n",
      "Successfully installed pandas-2.3.2 pytz-2025.2 tzdata-2025.2\n",
      "\n",
      "\u001b[1m[\u001b[0m\u001b[34;49mnotice\u001b[0m\u001b[1;39;49m]\u001b[0m\u001b[39;49m A new release of pip is available: \u001b[0m\u001b[31;49m23.1.2\u001b[0m\u001b[39;49m -> \u001b[0m\u001b[32;49m25.2\u001b[0m\n",
      "\u001b[1m[\u001b[0m\u001b[34;49mnotice\u001b[0m\u001b[1;39;49m]\u001b[0m\u001b[39;49m To update, run: \u001b[0m\u001b[32;49mpip3.11 install --upgrade pip\u001b[0m\n",
      "Note: you may need to restart the kernel to use updated packages.\n"
     ]
    }
   ],
   "source": [
    "pip install pandas "
   ]
  },
  {
   "cell_type": "code",
   "execution_count": 27,
   "metadata": {},
   "outputs": [
    {
     "name": "stdout",
     "output_type": "stream",
     "text": [
      "5.0\n",
      "4.0\n",
      "4\n",
      "1.5707963267948966\n"
     ]
    }
   ],
   "source": [
    "# Calcula la raíz cuadrada de 25 \n",
    "\n",
    "print(m.sqrt(25))\n",
    "\n",
    "# Calcula el valor absoluto de -4 usando math.fabs() \n",
    "print(m.fabs(-4))\n",
    "\n",
    "\n",
    "# Calcula el valor absoluto de -4 usando la función built-in abs() \n",
    "print(abs(-4))\n",
    "\n",
    "# Calcula el arcocoseno de 0 en radianes \n",
    "print(m.acos(0))"
   ]
  },
  {
   "cell_type": "code",
   "execution_count": 29,
   "metadata": {},
   "outputs": [
    {
     "name": "stdout",
     "output_type": "stream",
     "text": [
      "Help on module math:\n",
      "\n",
      "NAME\n",
      "    math\n",
      "\n",
      "MODULE REFERENCE\n",
      "    https://docs.python.org/3.11/library/math.html\n",
      "    \n",
      "    The following documentation is automatically generated from the Python\n",
      "    source files.  It may be incomplete, incorrect or include features that\n",
      "    are considered implementation detail and may vary between Python\n",
      "    implementations.  When in doubt, consult the module reference at the\n",
      "    location listed above.\n",
      "\n",
      "DESCRIPTION\n",
      "    This module provides access to the mathematical functions\n",
      "    defined by the C standard.\n",
      "\n",
      "FUNCTIONS\n",
      "    acos(x, /)\n",
      "        Return the arc cosine (measured in radians) of x.\n",
      "        \n",
      "        The result is between 0 and pi.\n",
      "    \n",
      "    acosh(x, /)\n",
      "        Return the inverse hyperbolic cosine of x.\n",
      "    \n",
      "    asin(x, /)\n",
      "        Return the arc sine (measured in radians) of x.\n",
      "        \n",
      "        The result is between -pi/2 and pi/2.\n",
      "    \n",
      "    asinh(x, /)\n",
      "        Return the inverse hyperbolic sine of x.\n",
      "    \n",
      "    atan(x, /)\n",
      "        Return the arc tangent (measured in radians) of x.\n",
      "        \n",
      "        The result is between -pi/2 and pi/2.\n",
      "    \n",
      "    atan2(y, x, /)\n",
      "        Return the arc tangent (measured in radians) of y/x.\n",
      "        \n",
      "        Unlike atan(y/x), the signs of both x and y are considered.\n",
      "    \n",
      "    atanh(x, /)\n",
      "        Return the inverse hyperbolic tangent of x.\n",
      "    \n",
      "    cbrt(x, /)\n",
      "        Return the cube root of x.\n",
      "    \n",
      "    ceil(x, /)\n",
      "        Return the ceiling of x as an Integral.\n",
      "        \n",
      "        This is the smallest integer >= x.\n",
      "    \n",
      "    comb(n, k, /)\n",
      "        Number of ways to choose k items from n items without repetition and without order.\n",
      "        \n",
      "        Evaluates to n! / (k! * (n - k)!) when k <= n and evaluates\n",
      "        to zero when k > n.\n",
      "        \n",
      "        Also called the binomial coefficient because it is equivalent\n",
      "        to the coefficient of k-th term in polynomial expansion of the\n",
      "        expression (1 + x)**n.\n",
      "        \n",
      "        Raises TypeError if either of the arguments are not integers.\n",
      "        Raises ValueError if either of the arguments are negative.\n",
      "    \n",
      "    copysign(x, y, /)\n",
      "        Return a float with the magnitude (absolute value) of x but the sign of y.\n",
      "        \n",
      "        On platforms that support signed zeros, copysign(1.0, -0.0)\n",
      "        returns -1.0.\n",
      "    \n",
      "    cos(x, /)\n",
      "        Return the cosine of x (measured in radians).\n",
      "    \n",
      "    cosh(x, /)\n",
      "        Return the hyperbolic cosine of x.\n",
      "    \n",
      "    degrees(x, /)\n",
      "        Convert angle x from radians to degrees.\n",
      "    \n",
      "    dist(p, q, /)\n",
      "        Return the Euclidean distance between two points p and q.\n",
      "        \n",
      "        The points should be specified as sequences (or iterables) of\n",
      "        coordinates.  Both inputs must have the same dimension.\n",
      "        \n",
      "        Roughly equivalent to:\n",
      "            sqrt(sum((px - qx) ** 2.0 for px, qx in zip(p, q)))\n",
      "    \n",
      "    erf(x, /)\n",
      "        Error function at x.\n",
      "    \n",
      "    erfc(x, /)\n",
      "        Complementary error function at x.\n",
      "    \n",
      "    exp(x, /)\n",
      "        Return e raised to the power of x.\n",
      "    \n",
      "    exp2(x, /)\n",
      "        Return 2 raised to the power of x.\n",
      "    \n",
      "    expm1(x, /)\n",
      "        Return exp(x)-1.\n",
      "        \n",
      "        This function avoids the loss of precision involved in the direct evaluation of exp(x)-1 for small x.\n",
      "    \n",
      "    fabs(x, /)\n",
      "        Return the absolute value of the float x.\n",
      "    \n",
      "    factorial(n, /)\n",
      "        Find n!.\n",
      "        \n",
      "        Raise a ValueError if x is negative or non-integral.\n",
      "    \n",
      "    floor(x, /)\n",
      "        Return the floor of x as an Integral.\n",
      "        \n",
      "        This is the largest integer <= x.\n",
      "    \n",
      "    fmod(x, y, /)\n",
      "        Return fmod(x, y), according to platform C.\n",
      "        \n",
      "        x % y may differ.\n",
      "    \n",
      "    frexp(x, /)\n",
      "        Return the mantissa and exponent of x, as pair (m, e).\n",
      "        \n",
      "        m is a float and e is an int, such that x = m * 2.**e.\n",
      "        If x is 0, m and e are both 0.  Else 0.5 <= abs(m) < 1.0.\n",
      "    \n",
      "    fsum(seq, /)\n",
      "        Return an accurate floating point sum of values in the iterable seq.\n",
      "        \n",
      "        Assumes IEEE-754 floating point arithmetic.\n",
      "    \n",
      "    gamma(x, /)\n",
      "        Gamma function at x.\n",
      "    \n",
      "    gcd(*integers)\n",
      "        Greatest Common Divisor.\n",
      "    \n",
      "    hypot(...)\n",
      "        hypot(*coordinates) -> value\n",
      "        \n",
      "        Multidimensional Euclidean distance from the origin to a point.\n",
      "        \n",
      "        Roughly equivalent to:\n",
      "            sqrt(sum(x**2 for x in coordinates))\n",
      "        \n",
      "        For a two dimensional point (x, y), gives the hypotenuse\n",
      "        using the Pythagorean theorem:  sqrt(x*x + y*y).\n",
      "        \n",
      "        For example, the hypotenuse of a 3/4/5 right triangle is:\n",
      "        \n",
      "            >>> hypot(3.0, 4.0)\n",
      "            5.0\n",
      "    \n",
      "    isclose(a, b, *, rel_tol=1e-09, abs_tol=0.0)\n",
      "        Determine whether two floating point numbers are close in value.\n",
      "        \n",
      "          rel_tol\n",
      "            maximum difference for being considered \"close\", relative to the\n",
      "            magnitude of the input values\n",
      "          abs_tol\n",
      "            maximum difference for being considered \"close\", regardless of the\n",
      "            magnitude of the input values\n",
      "        \n",
      "        Return True if a is close in value to b, and False otherwise.\n",
      "        \n",
      "        For the values to be considered close, the difference between them\n",
      "        must be smaller than at least one of the tolerances.\n",
      "        \n",
      "        -inf, inf and NaN behave similarly to the IEEE 754 Standard.  That\n",
      "        is, NaN is not close to anything, even itself.  inf and -inf are\n",
      "        only close to themselves.\n",
      "    \n",
      "    isfinite(x, /)\n",
      "        Return True if x is neither an infinity nor a NaN, and False otherwise.\n",
      "    \n",
      "    isinf(x, /)\n",
      "        Return True if x is a positive or negative infinity, and False otherwise.\n",
      "    \n",
      "    isnan(x, /)\n",
      "        Return True if x is a NaN (not a number), and False otherwise.\n",
      "    \n",
      "    isqrt(n, /)\n",
      "        Return the integer part of the square root of the input.\n",
      "    \n",
      "    lcm(*integers)\n",
      "        Least Common Multiple.\n",
      "    \n",
      "    ldexp(x, i, /)\n",
      "        Return x * (2**i).\n",
      "        \n",
      "        This is essentially the inverse of frexp().\n",
      "    \n",
      "    lgamma(x, /)\n",
      "        Natural logarithm of absolute value of Gamma function at x.\n",
      "    \n",
      "    log(...)\n",
      "        log(x, [base=math.e])\n",
      "        Return the logarithm of x to the given base.\n",
      "        \n",
      "        If the base not specified, returns the natural logarithm (base e) of x.\n",
      "    \n",
      "    log10(x, /)\n",
      "        Return the base 10 logarithm of x.\n",
      "    \n",
      "    log1p(x, /)\n",
      "        Return the natural logarithm of 1+x (base e).\n",
      "        \n",
      "        The result is computed in a way which is accurate for x near zero.\n",
      "    \n",
      "    log2(x, /)\n",
      "        Return the base 2 logarithm of x.\n",
      "    \n",
      "    modf(x, /)\n",
      "        Return the fractional and integer parts of x.\n",
      "        \n",
      "        Both results carry the sign of x and are floats.\n",
      "    \n",
      "    nextafter(x, y, /)\n",
      "        Return the next floating-point value after x towards y.\n",
      "    \n",
      "    perm(n, k=None, /)\n",
      "        Number of ways to choose k items from n items without repetition and with order.\n",
      "        \n",
      "        Evaluates to n! / (n - k)! when k <= n and evaluates\n",
      "        to zero when k > n.\n",
      "        \n",
      "        If k is not specified or is None, then k defaults to n\n",
      "        and the function returns n!.\n",
      "        \n",
      "        Raises TypeError if either of the arguments are not integers.\n",
      "        Raises ValueError if either of the arguments are negative.\n",
      "    \n",
      "    pow(x, y, /)\n",
      "        Return x**y (x to the power of y).\n",
      "    \n",
      "    prod(iterable, /, *, start=1)\n",
      "        Calculate the product of all the elements in the input iterable.\n",
      "        \n",
      "        The default start value for the product is 1.\n",
      "        \n",
      "        When the iterable is empty, return the start value.  This function is\n",
      "        intended specifically for use with numeric values and may reject\n",
      "        non-numeric types.\n",
      "    \n",
      "    radians(x, /)\n",
      "        Convert angle x from degrees to radians.\n",
      "    \n",
      "    remainder(x, y, /)\n",
      "        Difference between x and the closest integer multiple of y.\n",
      "        \n",
      "        Return x - n*y where n*y is the closest integer multiple of y.\n",
      "        In the case where x is exactly halfway between two multiples of\n",
      "        y, the nearest even value of n is used. The result is always exact.\n",
      "    \n",
      "    sin(x, /)\n",
      "        Return the sine of x (measured in radians).\n",
      "    \n",
      "    sinh(x, /)\n",
      "        Return the hyperbolic sine of x.\n",
      "    \n",
      "    sqrt(x, /)\n",
      "        Return the square root of x.\n",
      "    \n",
      "    tan(x, /)\n",
      "        Return the tangent of x (measured in radians).\n",
      "    \n",
      "    tanh(x, /)\n",
      "        Return the hyperbolic tangent of x.\n",
      "    \n",
      "    trunc(x, /)\n",
      "        Truncates the Real x to the nearest Integral toward 0.\n",
      "        \n",
      "        Uses the __trunc__ magic method.\n",
      "    \n",
      "    ulp(x, /)\n",
      "        Return the value of the least significant bit of the float x.\n",
      "\n",
      "DATA\n",
      "    e = 2.718281828459045\n",
      "    inf = inf\n",
      "    nan = nan\n",
      "    pi = 3.141592653589793\n",
      "    tau = 6.283185307179586\n",
      "\n",
      "FILE\n",
      "    /Library/Frameworks/Python.framework/Versions/3.11/lib/python3.11/lib-dynload/math.cpython-311-darwin.so\n",
      "\n",
      "\n"
     ]
    }
   ],
   "source": [
    "#help(math)\n",
    "\n",
    "help(m)\n",
    "\n"
   ]
  },
  {
   "cell_type": "markdown",
   "metadata": {},
   "source": [
    "Como en todos los lenguajes de programación, suele haber una serie de componentes básicos (variables, operaciones aritméticas, tipos de datos...) con los que podemos hacer muchas cosas. Ahora bien, si queremos ampliar esas funcionalidades, se suelen importar nuevos módulos, con funciones ya hechas de otros usuarios, como en el caso del módulo `math`. Veremos esto de los módulos más adelante."
   ]
  },
  {
   "cell_type": "markdown",
   "metadata": {},
   "source": [
    "<table align=\"left\">\n",
    " <tr><td width=\"80\"><img src=\"./img/error.png\" style=\"width:auto;height:auto\"></td>\n",
    "     <td style=\"text-align:left\">\n",
    "         <h3>ERRORES Dividir por cero</h3>\n",
    "         \n",
    " </td></tr>\n",
    "</table>"
   ]
  },
  {
   "cell_type": "markdown",
   "metadata": {},
   "source": [
    "Cuidado cuando operamos con 0s. Las indeterminaciones y valores infinitos suponen errores en el código. Por suerte, la descripción de estos errores es bastante explícita, obteniendo un error de tipo `ZeroDivisionError`"
   ]
  },
  {
   "cell_type": "code",
   "execution_count": null,
   "metadata": {},
   "outputs": [],
   "source": [
    "4/0"
   ]
  },
  {
   "cell_type": "code",
   "execution_count": null,
   "metadata": {},
   "outputs": [],
   "source": [
    "(-2)*(-2)"
   ]
  },
  {
   "cell_type": "code",
   "execution_count": null,
   "metadata": {},
   "outputs": [],
   "source": [
    "math.sqrt(-10)"
   ]
  },
  {
   "cell_type": "markdown",
   "metadata": {},
   "source": [
    "<table align=\"left\">\n",
    " <tr><td width=\"80\"><img src=\"./img/ejercicio.png\" style=\"width:auto;height:auto\"></td>\n",
    "     <td style=\"text-align:left\">\n",
    "         <h3>Ejercicio de operaciones con math</h3>\n",
    "\n",
    "Consulta la documentación de math para resolver este ejercicio \n",
    "<ol>\n",
    "    <li>Calcula el valor absoluto de -25. Usa fabs</li>\n",
    "    <li>Redondea 4.7 a su entero más bajo. Usa floor</li>\n",
    "    <li>Redondea 4.3 a su entero más alto. Usa ceil</li>\n",
    "    <li>El número pi</li>\n",
    "    <li>¿Cuál es el área de un círculo de radio 3?</li>\n",
    "</ol>\n",
    "         \n",
    " </td></tr>\n",
    "</table>"
   ]
  },
  {
   "cell_type": "code",
   "execution_count": 42,
   "metadata": {},
   "outputs": [
    {
     "name": "stdout",
     "output_type": "stream",
     "text": [
      "25.0\n",
      "4\n",
      "5\n",
      "3.141592653589793\n",
      "28.274333882308138\n"
     ]
    }
   ],
   "source": [
    "import math\n",
    "abs_value = math.fabs(-25)\n",
    "print(abs_value)\n",
    "\n",
    "floor_value = math.floor(4.7)\n",
    "print(floor_value)\n",
    "\n",
    "ceil_value = math.ceil(4.5)\n",
    "print(ceil_value)\n",
    "\n",
    "pi_value = math.pi\n",
    "print(pi_value)\n",
    "\n",
    "radio = 3\n",
    "area = math.pi * (radio **2 )\n",
    "\n",
    "print(area)\n"
   ]
  },
  {
   "cell_type": "markdown",
   "metadata": {},
   "source": [
    "## 2. Operaciones comparativas\n",
    "\n",
    "Es bastante intuitivo comparar valores en Python. La sintaxis es la siguiente:\n",
    "* `==`: Igualdad. No es un `=`. Hay que diferenciar entre una comparativa, y una asignación de valores\n",
    "* `!=`: Desigualdad\n",
    "* `>`: Mayor que\n",
    "* `<`: Menor que\n",
    "* `>=`: Mayor o igual que\n",
    "* `<=`: Menor o igual que"
   ]
  },
  {
   "cell_type": "code",
   "execution_count": null,
   "metadata": {},
   "outputs": [],
   "source": [
    "# print(valor1 == valor2)\n",
    "print(1==1)\n",
    "\n",
    "\n",
    "\n"
   ]
  },
  {
   "cell_type": "markdown",
   "metadata": {},
   "source": [
    "#### Curiosidades\n",
    "###### (\"AAA\" == \"BBB\")\n",
    "###### (1 == 1.0)\n",
    "###### (67 != 67)"
   ]
  },
  {
   "cell_type": "code",
   "execution_count": null,
   "metadata": {},
   "outputs": [
    {
     "name": "stdout",
     "output_type": "stream",
     "text": [
      "True\n",
      "True\n"
     ]
    }
   ],
   "source": [
    "#Curiosidades\n",
    "\n",
    "print(67 == 67)\n",
    "\n",
    "print(1 == 1.0)\n",
    "\n",
    "ab"
   ]
  },
  {
   "cell_type": "code",
   "execution_count": null,
   "metadata": {},
   "outputs": [],
   "source": [
    "#bool(int)\n",
    "\n",
    "# 1 se convierte a True\n",
    "# 0 Se converte False\n",
    "#int(True)\n",
    "#int(False)"
   ]
  },
  {
   "cell_type": "code",
   "execution_count": null,
   "metadata": {},
   "outputs": [],
   "source": [
    "\n"
   ]
  },
  {
   "cell_type": "code",
   "execution_count": 46,
   "metadata": {},
   "outputs": [
    {
     "name": "stdout",
     "output_type": "stream",
     "text": [
      "True\n"
     ]
    }
   ],
   "source": [
    "#\"abc\" < \"def\"\n",
    "\n",
    "print (\"abc\" < \"def\")"
   ]
  },
  {
   "cell_type": "code",
   "execution_count": 47,
   "metadata": {},
   "outputs": [
    {
     "name": "stdout",
     "output_type": "stream",
     "text": [
      "False\n"
     ]
    }
   ],
   "source": [
    "#\"abc\" < \"ABC\"\n",
    "\n",
    "print(\"abc\" < \"ABC\")"
   ]
  },
  {
   "cell_type": "markdown",
   "metadata": {},
   "source": [
    "<table align=\"left\">\n",
    " <tr><td width=\"80\"><img src=\"./img/error.png\" style=\"width:auto;height:auto\"></td>\n",
    "     <td style=\"text-align:left\">\n",
    "         <h3>ERRORES en comparativas</h3>\n",
    "         \n",
    " </td></tr>\n",
    "</table>"
   ]
  },
  {
   "cell_type": "markdown",
   "metadata": {},
   "source": [
    "Este tipo de errores son muy comunes, pues es muy habitual comparar peras con manzanas. Cuando se trata de una igualdad (`==`), no suele haber problemas, ya que si las variables son de distinto tipo, simplemente es `False`. Lo ideal sería que Python nos avisase de estas cosas porque realmente lo estamos haciendo mal, no estamos comparando cosas del mismo tipo"
   ]
  },
  {
   "cell_type": "code",
   "execution_count": 49,
   "metadata": {},
   "outputs": [
    {
     "name": "stdout",
     "output_type": "stream",
     "text": [
      "False\n",
      "False\n",
      "False\n"
     ]
    }
   ],
   "source": [
    "print(True == 6)\n",
    "print(True == \"verdadero\")\n",
    "print(6 == \"cadena\")"
   ]
  },
  {
   "cell_type": "code",
   "execution_count": 50,
   "metadata": {},
   "outputs": [
    {
     "ename": "TypeError",
     "evalue": "'>' not supported between instances of 'float' and 'str'",
     "output_type": "error",
     "traceback": [
      "\u001b[31m---------------------------------------------------------------------------\u001b[39m",
      "\u001b[31mTypeError\u001b[39m                                 Traceback (most recent call last)",
      "\u001b[36mCell\u001b[39m\u001b[36m \u001b[39m\u001b[32mIn[50]\u001b[39m\u001b[32m, line 1\u001b[39m\n\u001b[32m----> \u001b[39m\u001b[32m1\u001b[39m \u001b[32;43m1.0\u001b[39;49m\u001b[43m \u001b[49m\u001b[43m>\u001b[49m\u001b[43m \u001b[49m\u001b[33;43m\"\u001b[39;49m\u001b[33;43mtexto\u001b[39;49m\u001b[33;43m\"\u001b[39;49m\n",
      "\u001b[31mTypeError\u001b[39m: '>' not supported between instances of 'float' and 'str'"
     ]
    }
   ],
   "source": [
    "1.0 > \"texto\""
   ]
  },
  {
   "cell_type": "code",
   "execution_count": 48,
   "metadata": {},
   "outputs": [
    {
     "name": "stdout",
     "output_type": "stream",
     "text": [
      "True\n",
      "False\n",
      "True\n",
      "True\n"
     ]
    }
   ],
   "source": [
    "print(1 > 0)\n",
    "print(1 > 2)\n",
    "print(1 >= 1)\n",
    "print(1 <= 2)"
   ]
  },
  {
   "cell_type": "markdown",
   "metadata": {},
   "source": [
    "## 3. Operaciones con booleanos\n",
    "Todas las operaciones que realizabamos en el apartado anterior devolvían un tipo de dato concreto: un booleano. `True` o `False`. Pero ¿cómo harías si se tienen que cumplir 3 condiciones, o solo una de esas tres, o que no se cumplan 5 condiciones?\n",
    "Para este tipo de operaciones recurrimos al [*Álgebra de Boole*](https://es.wikipedia.org/wiki/%C3%81lgebra_de_Boole#:~:text=El%20%C3%A1lgebra%20de%20Boole%2C%20tambi%C3%A9n,que%20esquematiza%20las%20operaciones%20l%C3%B3gicas.). Se trata de una rama del álgebra que se utiliza en electrónica, pero que tiene un sin fin de aplicaciones, no solo téncicas, sino aplicables a la vida cotidiana. Estas matemáticas pueden llegar a ser muy complejas aún utilizando únicamente dos valores: `True` y `False`. Las operaciones más comunes son **AND, OR, NOT**.\n",
    "En las siguientes tablas tienes todos los posibles resultados de las puertas AND, OR, NOT, dependiendo de sus inputs.\n",
    "\n",
    "Puede parecer complejo pero a efectos prácticos, y sin meternos con otro tipo de puertas lógicas, te recomiendo seguir estas reglas:\n",
    "* **AND**: Se tienen que cumplir ambas condiciones para que sea un `True`\n",
    "* **OR**: Basta que se cumpla al menos una condicion para que sea `True`\n",
    "* **NOT**: Lo contrario de lo que haya\n",
    "\n",
    "Veamos un ejemplo práctico para aclarar estos conceptos. Imaginemos que queremos comprar un ordenador, pero nos cuesta decidirnos. Eso sí, tenemos claras las siguentes condiciones a la hora de elegir\n",
    "* La RAM me vale que tenga 16, 32 o 64 GB\n",
    "* En cuanto al procesador y disco duro, la combinación que mejor me viene es un i3 con 500GB de disco.\n",
    "* Precio: que no pase de los 800 €"
   ]
  },
  {
   "cell_type": "code",
   "execution_count": null,
   "metadata": {},
   "outputs": [],
   "source": []
  },
  {
   "cell_type": "code",
   "execution_count": 54,
   "metadata": {},
   "outputs": [],
   "source": [
    "# Primer ordenador\n",
    "ram1 = 32\n",
    "process1 = \"i5\"\n",
    "disco1 = 500\n",
    "precio1 = 850\n",
    "\n",
    "# Segundo ordenador\n",
    "ram2 = 8\n",
    "process2 = \"i5\"\n",
    "disco2 = 500\n",
    "precio2 = 600\n",
    "\n",
    "# Tercer ordenador\n",
    "ram3 = 32\n",
    "process3 = \"i3\"\n",
    "disco3 = 500\n",
    "precio3 = 780"
   ]
  },
  {
   "cell_type": "markdown",
   "metadata": {},
   "source": [
    "Veamos cómo implemento esto mediante operaciones booleanas"
   ]
  },
  {
   "cell_type": "code",
   "execution_count": 62,
   "metadata": {},
   "outputs": [
    {
     "ename": "SyntaxError",
     "evalue": "invalid syntax (3160535955.py, line 9)",
     "output_type": "error",
     "traceback": [
      "  \u001b[36mCell\u001b[39m\u001b[36m \u001b[39m\u001b[32mIn[62]\u001b[39m\u001b[32m, line 9\u001b[39m\n\u001b[31m    \u001b[39m\u001b[31mcond_precio1 = (precio1 < = 800)\u001b[39m\n                              ^\n\u001b[31mSyntaxError\u001b[39m\u001b[31m:\u001b[39m invalid syntax\n"
     ]
    }
   ],
   "source": [
    "#ordenadores \n",
    "\n",
    "cond_ram = (ram1 == 16 or ram1 == 32 or ram1 == 64)\n",
    "print(cond_ram)\n",
    "\n",
    "cond_process1 =(process1 == 13 == 500)\n",
    "print(cond_process1)\n",
    "\n",
    "cond_precio1 = (precio1 < = 800)\n",
    "\n"
   ]
  },
  {
   "cell_type": "code",
   "execution_count": null,
   "metadata": {},
   "outputs": [
    {
     "name": "stdout",
     "output_type": "stream",
     "text": [
      "False\n",
      "False\n",
      "True\n"
     ]
    }
   ],
   "source": [
    "# Ordenador 1\n",
    "ram1 = 32\n",
    "process1 = \"i5\"\n",
    "disco1 = 500\n",
    "precio1 = 850\n",
    "\n",
    "cond1 = (ram1 in [16, 32, 64]) and (process1 == \"i3\" and disco1 == 500) and (precio1 <= 800)\n",
    "print(cond1)  # False\n",
    "\n",
    "# Ordenador 2\n",
    "ram2 = 8\n",
    "process2 = \"i5\"\n",
    "disco2 = 500\n",
    "precio2 = 600\n",
    "\n",
    "cond2 = (ram2 in [16, 32, 64]) and (process2 == \"i3\" and disco2 == 500) and (precio2 <= 800)\n",
    "print(cond2)  # False\n",
    "\n",
    "# Ordenador 3\n",
    "ram3 = 32\n",
    "process3 = \"i3\"\n",
    "disco3 = 500\n",
    "precio3 = 780\n",
    "\n",
    "cond3 = (ram3 in [16, 32, 64]) and (process3 == \"i3\" and disco3 == 500) and (precio3 <= 800)\n",
    "print(cond3)  # True"
   ]
  },
  {
   "cell_type": "markdown",
   "metadata": {},
   "source": [
    "El primer ordenador cumple el requisito de ram, pero no los de precio y procesador/disco. Veamos los otros dos si los cumplen"
   ]
  },
  {
   "cell_type": "code",
   "execution_count": null,
   "metadata": {},
   "outputs": [],
   "source": [
    "# ordenadores 2 "
   ]
  },
  {
   "cell_type": "markdown",
   "metadata": {},
   "source": [
    "¡Bingo! El tercer ordenador cumple todas las condiciones para ser mi futura compra. Verás en próximos notebooks que esto se puede hacer todavía más sencillo mediante bucles y funciones.\n",
    "\n",
    "Si quieres aprender más sobre el **Álgebra de Boole**, te recomiendo [esta página](https://ryanstutorials.net/boolean-algebra-tutorial/)"
   ]
  },
  {
   "cell_type": "markdown",
   "metadata": {},
   "source": [
    "¡No me vas a creer cuando te diga que lo mejor que te puede pasar es que te salten errores por pantalla! Si, estos son los errores más fáciles de detectar y puede que también fáciles de corregir ya que tienes la ayuda del descriptivo del error. El problema gordo viene cuando no saltan errores y ves que tu código no lo está haciendo bien. Para ello tendremos que debugear el código y ver paso a paso que está pasando. Lo veremos en notebooks posteriores. De momento corregiremos el código revisandolo a ojo."
   ]
  },
  {
   "cell_type": "markdown",
   "metadata": {},
   "source": [
    "Cuidado cuando tenemos sentencias muy largas, ya que nos puede bailar perfectamente un paréntesis, un `>`, un `and` por un `or`... Hay que andarse con mil ojos.\n",
    "\n",
    "Y sobretodo, cuidado con el *copy paste*. Muchas veces, por ahorrar tiempo, copiamos código ya escrito para cambiar pequeñas cosas y hay veces que se nos olvida cambiar otras. Pensamos que está bien, ejecutamos, y saltan errores. Copiar código no es una mala práctica, es más, muchas veces evitamos errores con los nombres de las variables, pero hay que hacerlo con cabeza."
   ]
  },
  {
   "cell_type": "markdown",
   "metadata": {},
   "source": [
    "<table align=\"left\">\n",
    " <tr><td width=\"80\"><img src=\"./img/ejercicio.png\" style=\"width:auto;height:auto\"></td>\n",
    "     <td style=\"text-align:left\">\n",
    "         <h3>Ejercicio de operaciones con booleanos</h3>\n",
    "\n",
    "Sin escribir código, ¿Qué valor devuelve cada una de las siguientes operaciones?\n",
    "<ol>\n",
    "    <li>not (True and False)</li>\n",
    "    <li>False or False or False or (False and True) or True or False or False or False</li>\n",
    "    <li>True or not False or (True and True) or True or False or True or True</li>\n",
    "    <li>(False and True and True) or (True and True)</li\n",
    "</ol>\n",
    "         \n",
    " </td></tr>\n",
    "</table>"
   ]
  },
  {
   "cell_type": "code",
   "execution_count": null,
   "metadata": {},
   "outputs": [],
   "source": [
    "# 1. not False = True\n",
    "# 2. True\n",
    "# 3. True\n",
    "# 4. False or True = True"
   ]
  },
  {
   "cell_type": "markdown",
   "metadata": {},
   "source": [
    "## 4. Funciones *Built in*\n",
    "Hay una serie de funciones internas, que vienen en el intérprete de Python. Algunas de las más comunes son:\n",
    "* **Tipos**: `bool()`, `str()`, `int()`, `float()`\n",
    "* **Min/Max**: `min()`, `max()`\n",
    "* **print()**\n",
    "* **type()**\n",
    "* **range()**\n",
    "* **zip()**\n",
    "* **len()**\n",
    "* ...\n",
    "\n",
    "La sintaxis de la función es:\n",
    "\n",
    "```Python\n",
    "nombre_funcion(argumentos)\n",
    "```\n",
    "\n",
    "Algunas ya las hemos visto. Sin embargo, hay unas cuantas que las iremos descubriendo a lo largo de estos notebooks. Para más detalle, tienes [aquí](https://docs.python.org/3/library/functions.html) todas las funciones *built-in* de la documentación.\n",
    "\n",
    "De momento, en lo que se refiere a funciones, vamos a ir trabajando con funciones ya hechas, pero más adelante crearemos nuestras propias funciones."
   ]
  },
  {
   "cell_type": "code",
   "execution_count": 64,
   "metadata": {},
   "outputs": [
    {
     "data": {
      "text/plain": [
       "19"
      ]
     },
     "execution_count": 64,
     "metadata": {},
     "output_type": "execute_result"
    }
   ],
   "source": [
    "#(len(\"str\")\n",
    "\n",
    "len('palabra de este str')\n"
   ]
  },
  {
   "cell_type": "code",
   "execution_count": 69,
   "metadata": {},
   "outputs": [
    {
     "data": {
      "text/plain": [
       "28"
      ]
     },
     "execution_count": 69,
     "metadata": {},
     "output_type": "execute_result"
    }
   ],
   "source": [
    "#max(lista)\n",
    "\n",
    "lista = [1,2,3,4,5,6,7]\n",
    "\n",
    "max(lista)\n",
    "min(lista)\n",
    "sum(lista)"
   ]
  },
  {
   "cell_type": "code",
   "execution_count": null,
   "metadata": {},
   "outputs": [],
   "source": [
    "#min(lista) "
   ]
  },
  {
   "cell_type": "markdown",
   "metadata": {},
   "source": [
    "<table align=\"left\">\n",
    " <tr><td width=\"80\"><img src=\"./img/ejercicio.png\" style=\"width:auto;height:auto\"></td>\n",
    "     <td style=\"text-align:left\">\n",
    "         <h3>Ejercicio de funciones built-in</h3>\n",
    "\n",
    "Busca <a href=\"https://docs.python.org/3/library/functions.html\">en la documentación</a> una función que te sirva para ordenar de manera descendente la siguiente lista\n",
    "         \n",
    " </td></tr>\n",
    "</table>"
   ]
  },
  {
   "cell_type": "code",
   "execution_count": 82,
   "metadata": {},
   "outputs": [
    {
     "data": {
      "text/plain": [
       "[7, 6, 5, 4, 3, 2, 1]"
      ]
     },
     "execution_count": 82,
     "metadata": {},
     "output_type": "execute_result"
    }
   ],
   "source": [
    "lista = [1,2,3,4,5,6,7]\n",
    "\n",
    "import pandas\n",
    "\n",
    "\n",
    "len(lista)\n",
    "type(lista)\n",
    "sorted (lista, reverse= True)\n",
    "\n"
   ]
  },
  {
   "cell_type": "markdown",
   "metadata": {},
   "source": [
    "## 5. Métodos\n",
    "Se trata de una propiedad MUY utilizada en programación. Son funciones propias de las variables/objetos, y que nos permiten modificarlos u obtener más información de los mismos. Dependiendo del tipo de objeto, tendremos unos métodos disponibles diferentes.\n",
    "\n",
    "Para usar un método se usa la sintaxis `objeto.metodo()`. Ponemos un punto entre el nombre del objeto y el del metodo, y unos paréntesis por si el método necesita de algunos argumentos. **Aunque no necesite de argumentos, los paréntesis hay que ponerlos igualmente.**\n",
    "\n",
    "Veamos algunos ejemplos\n",
    "\n",
    "### String\n",
    "Una variable de tipo string, tiene una serie de métodos que permiten sacarle jugo a la cadena de texto. [Aquí](https://docs.python.org/2.5/lib/string-methods.html) tienes todos los métodos que podemos usar en cadenas de texto"
   ]
  },
  {
   "cell_type": "code",
   "execution_count": 83,
   "metadata": {},
   "outputs": [
    {
     "name": "stdout",
     "output_type": "stream",
     "text": [
      "STRING DE EJEMPLO\n",
      "string de ejemplo\n",
      "String dE EjEmplo\n",
      "['String', 'de', 'ejemplo']\n",
      "2\n"
     ]
    }
   ],
   "source": [
    "string_ejemplo = \"String de ejemplo\"\n",
    "\n",
    "print(string_ejemplo.upper())\n",
    "# new_string = string_ejemplo.upper()\n",
    "# print(new_string)\n",
    "# print(string_ejemplo)\n",
    "\n",
    "\n",
    "print(string_ejemplo.lower())\n",
    "\n",
    "print(string_ejemplo.replace(\"e\", \"E\"))\n",
    "\n",
    "print(string_ejemplo.split(' '))\n",
    "\n",
    "print(string_ejemplo.index('r'))"
   ]
  },
  {
   "cell_type": "markdown",
   "metadata": {},
   "source": [
    "Como ves, se pueden hacer muchas cosas en los Strings gracias a sus métodos. Ya verás cómo la cosa se pone más interesante cuando los tipos de los datos sean todavía más complejos.\n",
    "\n",
    "Los métodos son una manera de abstraernos de cierta operativa. Convertir todos los caracteres de una cadena a minuscula, puede ser un poco tedioso si no existiese el método `lower()`. Tendríamos que acudir a bucles o programación funcional."
   ]
  },
  {
   "cell_type": "markdown",
   "metadata": {},
   "source": [
    "<table align=\"left\">\n",
    " <tr><td width=\"80\"><img src=\"./img/error.png\" style=\"width:auto;height:auto\"></td>\n",
    "     <td style=\"text-align:left\">\n",
    "         <h3>ERRORES en métodos</h3>\n",
    "         \n",
    " </td></tr>\n",
    "</table>"
   ]
  },
  {
   "cell_type": "code",
   "execution_count": 85,
   "metadata": {
    "scrolled": true
   },
   "outputs": [
    {
     "ename": "TypeError",
     "evalue": "replace expected at least 2 arguments, got 1",
     "output_type": "error",
     "traceback": [
      "\u001b[31m---------------------------------------------------------------------------\u001b[39m",
      "\u001b[31mTypeError\u001b[39m                                 Traceback (most recent call last)",
      "\u001b[36mCell\u001b[39m\u001b[36m \u001b[39m\u001b[32mIn[85]\u001b[39m\u001b[32m, line 2\u001b[39m\n\u001b[32m      1\u001b[39m str_ejemplo = \u001b[33m\"\u001b[39m\u001b[33mstring\u001b[39m\u001b[33m\"\u001b[39m\n\u001b[32m----> \u001b[39m\u001b[32m2\u001b[39m \u001b[43mstr_ejemplo\u001b[49m\u001b[43m.\u001b[49m\u001b[43mreplace\u001b[49m\u001b[43m(\u001b[49m\u001b[33;43m\"\u001b[39;49m\u001b[33;43ms\u001b[39;49m\u001b[33;43m\"\u001b[39;49m\u001b[43m)\u001b[49m\n",
      "\u001b[31mTypeError\u001b[39m: replace expected at least 2 arguments, got 1"
     ]
    }
   ],
   "source": [
    "str_ejemplo = \"string\"\n",
    "str_ejemplo.replace(\"s\")"
   ]
  },
  {
   "attachments": {},
   "cell_type": "markdown",
   "metadata": {},
   "source": [
    "## 6. Listas\n",
    "Se trata de otro de los tipos de datos de Python más usados. Dentro de las colecciones, que veremos más adelante, la lista es la colección que normalmente se le da más uso. **Nos permiten almacenar conjuntos de variables u objetos**, y son elementos de lo más versátiles puesto que podemos almacenar objetos de distintos tipos, modificarlos, eliminarlos, meter listas dentro de listas... Sus dos características principales son:\n",
    "* **Mutables**: una vez se ha creado la lista, se puede modificar\n",
    "* **Ordenada**: Los elementos tienen un cierto orden, lo que nos permite acceder al elemento que queramos teniendo en cuenta tal orden\n",
    "\n",
    "En cuanto a su sintaxis, cuando declaremos la lista simplemente hay que separar cada elemento con comas, y rodearlo todo con corchetes."
   ]
  },
  {
   "cell_type": "code",
   "execution_count": null,
   "metadata": {},
   "outputs": [],
   "source": [
    "# Sintaxis \n",
    "# variable = [] "
   ]
  },
  {
   "cell_type": "code",
   "execution_count": 86,
   "metadata": {},
   "outputs": [
    {
     "name": "stdout",
     "output_type": "stream",
     "text": [
      "<class 'list'>\n",
      "[3, 6, 1]\n"
     ]
    }
   ],
   "source": [
    "# num_1 = 3\n",
    "# num_2 = 6\n",
    "# num_3 = 1\n",
    "# numeros = [num_1, num_2, num_3]\n",
    "\n",
    "numeros = [3,6,1]\n",
    "print(type(numeros))\n",
    "print(numeros)"
   ]
  },
  {
   "cell_type": "code",
   "execution_count": null,
   "metadata": {},
   "outputs": [
    {
     "name": "stdout",
     "output_type": "stream",
     "text": [
      "['el gato', 'rojo', True, False, False]\n"
     ]
    }
   ],
   "source": [
    "#list_string = \n",
    "\n",
    "lista2 = ['el gato', 'rojo']\n",
    "\n",
    "#list_bools = \n",
    "Boleano = [True, False, False]\n",
    "\n",
    "#list_mix = \n",
    "\n",
    "#list_list = \n",
    "\n",
    "#list_a + list_b\n",
    "\n",
    "sumado= lista2 + Boleano \n",
    "print(sumado)\n",
    "\n"
   ]
  },
  {
   "cell_type": "markdown",
   "metadata": {},
   "source": [
    "**NOTA**: ¿Ves por qué los decimales en Python siempre van con puntos y no con comas? Con las colecciones el intérprete de Python se volvería loco.\n",
    "\n",
    "Podemos ver tambien el tipo de la lista"
   ]
  },
  {
   "cell_type": "code",
   "execution_count": null,
   "metadata": {},
   "outputs": [],
   "source": [
    "#type(lista)\n",
    "\n"
   ]
  },
  {
   "cell_type": "markdown",
   "metadata": {},
   "source": [
    "Calcular la longitud de la misma mediante el método *built-in* ya visto: `len()`"
   ]
  },
  {
   "cell_type": "code",
   "execution_count": null,
   "metadata": {},
   "outputs": [],
   "source": [
    "#len(lista)"
   ]
  },
  {
   "cell_type": "markdown",
   "metadata": {},
   "source": [
    "Accedemos a los elemenos de la lista mediante corchetes `[]`\n",
    "\n",
    "**Importante**. El primer elemento es el 0"
   ]
  },
  {
   "cell_type": "code",
   "execution_count": 90,
   "metadata": {},
   "outputs": [],
   "source": [
    "list_index = [4,5,7,8,6]"
   ]
  },
  {
   "cell_type": "code",
   "execution_count": 91,
   "metadata": {},
   "outputs": [
    {
     "name": "stdout",
     "output_type": "stream",
     "text": [
      "3\n",
      "[4, 5, 7, 8, 6]\n"
     ]
    }
   ],
   "source": [
    "list_index = [4,5,7,8,6]\n",
    "mi_var = list_index[0] -  1\n",
    "\n",
    "print(mi_var)\n",
    "print(list_index)"
   ]
  },
  {
   "cell_type": "code",
   "execution_count": null,
   "metadata": {},
   "outputs": [],
   "source": [
    "print(list_index)\n",
    "list_index[0]"
   ]
  },
  {
   "cell_type": "code",
   "execution_count": 92,
   "metadata": {},
   "outputs": [
    {
     "name": "stdout",
     "output_type": "stream",
     "text": [
      "[12, 5, 7, 8, 6]\n"
     ]
    }
   ],
   "source": [
    "list_index[0] = 12\n",
    "print(list_index)"
   ]
  },
  {
   "cell_type": "code",
   "execution_count": 93,
   "metadata": {},
   "outputs": [
    {
     "name": "stdout",
     "output_type": "stream",
     "text": [
      "[12, 5, 14, 8, 6]\n"
     ]
    }
   ],
   "source": [
    "list_index[2] = list_index[2] * 2\n",
    "print(list_index)"
   ]
  },
  {
   "cell_type": "markdown",
   "metadata": {},
   "source": [
    "### Metodos en Listas\n",
    "Para el tipo de objeto lista, también hay una serie de métodos catacterísticos que nos permiten operar con ellas: añadir valores, quitarlos, indexado, filtrado, etc... En [este enlace](https://www.w3schools.com/python/python_ref_list.asp) puedes encontrar todos los métodos que podrás usar con listas.\n",
    "\n",
    "Sintaxis general de los métodos de lista\n",
    "lista.metodo(argumento_opcional)"
   ]
  },
  {
   "cell_type": "code",
   "execution_count": 96,
   "metadata": {},
   "outputs": [
    {
     "name": "stdout",
     "output_type": "stream",
     "text": [
      "['manzana', 'pera', 'naranja']\n"
     ]
    }
   ],
   "source": [
    "lista_vacía = ['manzana', 'pera']\n",
    "lista_vacía.append('naranja')  # ✅ Funciona\n",
    "print(lista_vacía)"
   ]
  },
  {
   "cell_type": "markdown",
   "metadata": {},
   "source": [
    "<table align=\"left\">\n",
    " <tr><td width=\"80\"><img src=\"./img/ejercicio.png\" style=\"width:auto;height:auto\"></td>\n",
    "     <td style=\"text-align:left\">\n",
    "         <h3>Ejercicio de listas</h3>\n",
    "\n",
    "<ol>\n",
    "    <li>Crea una lista con tus 3 películas favoritas.</li>\n",
    "    <li>Imprime por pantalla la longitud de la lista</li>\n",
    "    <li>Concatena a esta lista, otra lista con tus 3 series favoritas</li>\n",
    "    <li>Elimina el segundo elemento de la lista concatenada</li>\n",
    "    <li>Añade una lista de 3 platos de comida, en el segundo elemento de la lista concatenada</li>\n",
    "</ol>\n",
    "         \n",
    " </td></tr>\n",
    "</table>"
   ]
  },
  {
   "cell_type": "code",
   "execution_count": 126,
   "metadata": {},
   "outputs": [
    {
     "name": "stdout",
     "output_type": "stream",
     "text": [
      "3\n",
      "['Spirit', 'Star Wars', 'Sexo para tres', 'Braking Bad', 'Better call Saul', 'Casa de Papel']\n",
      "['Spirit', 'Sexo para tres', 'Braking Bad', 'Better call Saul', 'Casa de Papel']\n",
      "['Spirit', 'Braking Bad', 'Better call Saul', 'Casa de Papel']\n",
      "['Spirit', ['cazuela', 'pizza', 'hamburgeza'], 'Better call Saul', 'Casa de Papel']\n",
      "['Spirit', ['tortilla', 'jamon', 'paella'], ['cazuela', 'pizza', 'hamburgeza'], 'Better call Saul', 'Casa de Papel']\n"
     ]
    }
   ],
   "source": [
    "mis_peliculas_favoritas = ['Spirit', 'Star Wars','Sexo para tres']\n",
    "\n",
    "mis_series_favoritas = ['Braking Bad', 'Better call Saul', 'Casa de Papel']\n",
    "\n",
    "print(len(mis_peliculas_favoritas))\n",
    "\n",
    "lista_total = mis_peliculas_favoritas + mis_series_favoritas\n",
    "\n",
    "print(lista_total)\n",
    "\n",
    "del lista_total[1]\n",
    "print (lista_total)\n",
    "\n",
    "#alternativa\n",
    "\n",
    "lista_total.pop(1)\n",
    "print(lista_total)\n",
    "\n",
    "\n",
    "#en este caso remplacé\n",
    "lista_total[1]= ['cazuela', 'pizza', 'hamburgeza']\n",
    "print(lista_total)\n",
    "\n",
    "#alternativa\n",
    "lista_total.insert(1, [\"tortilla\", \"jamon\", \"paella\"])\n",
    "print(lista_total)\n",
    "\n"
   ]
  },
  {
   "cell_type": "markdown",
   "metadata": {},
   "source": [
    "## 7. Resumen"
   ]
  },
  {
   "cell_type": "code",
   "execution_count": 127,
   "metadata": {},
   "outputs": [
    {
     "name": "stdout",
     "output_type": "stream",
     "text": [
      "Operaciones matemáticas\n",
      "10\n",
      "18\n",
      "16\n",
      "2.0\n",
      "1\n",
      "1024\n",
      "5.0\n",
      "\n",
      "Operaciones comparativas\n",
      "False\n",
      "True\n",
      "True\n",
      "True\n",
      "True\n",
      "False\n",
      "False\n",
      "\n",
      "Operaciones con booleanos\n",
      "False\n",
      "True\n",
      "True\n",
      "\n",
      "Funciones built-in\n",
      "FIN DEL NOTEBOOK\n",
      "fin del notebook\n",
      "Fin del nOtebOOk\n",
      "Fin del ntebk\n",
      "\n",
      "Listas\n",
      "['AC/DC', 'Metallica', 'Nirvana', 'Queen']\n"
     ]
    }
   ],
   "source": [
    "# Operaciones matemáticas\n",
    "print(\"Operaciones matemáticas\")\n",
    "print(4 + 6)\n",
    "print(9*2)\n",
    "print(2 * (3 + 5))\n",
    "print(10/5)\n",
    "print(10 % 3)\n",
    "print(2**10)\n",
    "\n",
    "# Funciones matemáticas más complejas\n",
    "import math\n",
    "print(math.sqrt(25))\n",
    "\n",
    "\n",
    "# Operaciones comparativas\n",
    "print(\"\\nOperaciones comparativas\")\n",
    "print(\"AAA\" == \"BBB\")\n",
    "print(\"AAA\" == \"AAA\")\n",
    "print(1 == 1)\n",
    "print(1 == 1.0)\n",
    "print(67 != 93)\n",
    "print(67 > 93)\n",
    "print(67 >= 93)\n",
    "\n",
    "\n",
    "# Operaciones con booleanos\n",
    "print(\"\\nOperaciones con booleanos\")\n",
    "print(True and True and False)\n",
    "print(True or True or False)\n",
    "print(not False)\n",
    "\n",
    "\n",
    "# Funciones builtin\n",
    "print(\"\\nFunciones built-in\")\n",
    "string_builtin = \"Fin del notebook\"\n",
    "print(string_builtin.upper())\n",
    "print(string_builtin.lower())\n",
    "print( string_builtin.replace(\"o\", \"O\"))\n",
    "print(string_builtin.replace(\"o\", \"\"))\n",
    "\n",
    "\n",
    "# Listas\n",
    "print(\"\\nListas\")\n",
    "musica = [\"AC/DC\", \"Metallica\", \"Nirvana\"]\n",
    "musica.append(\"Queen\")\n",
    "print(musica)"
   ]
  }
 ],
 "metadata": {
  "kernelspec": {
   "display_name": "Python 3",
   "language": "python",
   "name": "python3"
  },
  "language_info": {
   "codemirror_mode": {
    "name": "ipython",
    "version": 3
   },
   "file_extension": ".py",
   "mimetype": "text/x-python",
   "name": "python",
   "nbconvert_exporter": "python",
   "pygments_lexer": "ipython3",
   "version": "3.11.4"
  },
  "nbTranslate": {
   "displayLangs": [
    "*"
   ],
   "hotkey": "alt-t",
   "langInMainMenu": true,
   "sourceLang": "en",
   "targetLang": "fr",
   "useGoogleTranslate": true
  },
  "varInspector": {
   "cols": {
    "lenName": 16,
    "lenType": 16,
    "lenVar": 40
   },
   "kernels_config": {
    "python": {
     "delete_cmd_postfix": "",
     "delete_cmd_prefix": "del ",
     "library": "var_list.py",
     "varRefreshCmd": "print(var_dic_list())"
    },
    "r": {
     "delete_cmd_postfix": ") ",
     "delete_cmd_prefix": "rm(",
     "library": "var_list.r",
     "varRefreshCmd": "cat(var_dic_list()) "
    }
   },
   "types_to_exclude": [
    "module",
    "function",
    "builtin_function_or_method",
    "instance",
    "_Feature"
   ],
   "window_display": false
  }
 },
 "nbformat": 4,
 "nbformat_minor": 4
}
