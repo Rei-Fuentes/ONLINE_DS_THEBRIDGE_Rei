{
 "cells": [
  {
   "cell_type": "markdown",
   "metadata": {},
   "source": [
    "![imagen](./img/ejercicios.png)"
   ]
  },
  {
   "cell_type": "markdown",
   "metadata": {},
   "source": [
    "# Ejercicios Python Basics I"
   ]
  },
  {
   "cell_type": "markdown",
   "metadata": {},
   "source": [
    "## Ejercicio 0\n",
    "Imprime por pantalla esta cita con el siguiente formato\n",
    "\n",
    "![imagen](./img/frase_Einstein.PNG)"
   ]
  },
  {
   "cell_type": "code",
   "execution_count": 9,
   "metadata": {},
   "outputs": [
    {
     "name": "stdout",
     "output_type": "stream",
     "text": [
      "¿Por qué esta magnífica tecnología científica,\n",
      " \tque ahorra trabajo y nos hace la vida mas fácil, \n",
      "\t\tnos aporta tan poca felicidad? \n",
      " \t\t\tLa repuesta es está, simplemente: porque aún no hemos aprendido a usarla con tino.\n"
     ]
    }
   ],
   "source": [
    "x = \"¿Por qué esta magnífica tecnología científica,\\n \\tque ahorra trabajo y nos hace la vida mas fácil, \\n\\t\\tnos aporta tan poca felicidad? \\n \\t\\t\\tLa repuesta es está, simplemente: porque aún no hemos aprendido a usarla con tino.\" \n",
    "\n",
    "print(x)\n"
   ]
  },
  {
   "cell_type": "markdown",
   "metadata": {},
   "source": [
    "## Ejercicio 1\n",
    "1. Escribe el nombre de la calle de tu domicilio en una variable\n",
    "2. Escribe el numero de la calle en otra\n",
    "3. Ciudad en una tercera\n",
    "4. Codigo postal en la cuarta variable\n",
    "5. Imprime las 4 variables concatenadas por pantalla\n",
    "6. Crea una quinta variable que concatene todas ellas\n",
    "7. Imprímela por pantalla"
   ]
  },
  {
   "cell_type": "code",
   "execution_count": 25,
   "metadata": {},
   "outputs": [
    {
     "name": "stdout",
     "output_type": "stream",
     "text": [
      "Amado Granel Mesado 72, Valencia 46013\n",
      "Amado Granel Mesado 72, Valencia 46013\n"
     ]
    }
   ],
   "source": [
    "# 1. Nombre de la calle\n",
    "nombre_calle = \"Amado Granel Mesado\"\n",
    "\n",
    "# 2. Número de la calle\n",
    "numero_de_calle = \"72\"\n",
    "\n",
    "# 3. Ciudad\n",
    "ciudad = \"Valencia\"\n",
    "\n",
    "# 4. Código postal\n",
    "codigo_postal = \"46013\"\n",
    "\n",
    "# 5. Imprime las 4 variables concatenadas por pantalla\n",
    "print(nombre_calle + \" \" + numero_de_calle + \", \" + ciudad + \" \" + codigo_postal)\n",
    "\n",
    "# 6. Crea una quinta variable que concatene todas ellas\n",
    "direccion_completa = f\"{nombre_calle} {numero_de_calle}, {ciudad} {codigo_postal}\"\n",
    "\n",
    "# 7. Imprímela por pantalla\n",
    "print(direccion_completa)"
   ]
  },
  {
   "cell_type": "markdown",
   "metadata": {},
   "source": [
    "## Ejercicio 2\n",
    "Repite el ejercicio 1, pero pidiendo estos datos al usuario mediante un input(), imprimiendo a continuación la dirección completa"
   ]
  },
  {
   "cell_type": "code",
   "execution_count": 28,
   "metadata": {},
   "outputs": [
    {
     "name": "stdout",
     "output_type": "stream",
     "text": [
      "\n",
      "Su dirección completa es:\n",
      "amado granell 32, valencia 46013\n"
     ]
    }
   ],
   "source": [
    "# Chatbot de dirección\n",
    "\n",
    "calle = input(\"Buena tarde, escriba su nombre de calle: \")\n",
    "\n",
    "numero = int(input(\"Perfecto, ahora escriba su número de calle: \"))\n",
    "\n",
    "ciudad = input(\"Ahora, indique su ciudad: \")\n",
    "\n",
    "codigo_postal = input(\"Por último, señale su código postal: \")\n",
    "\n",
    "# Concatenar todo en una sola dirección\n",
    "direccion_completa = f\"{calle} {numero}, {ciudad} {codigo_postal}\"\n",
    "\n",
    "print(\"\\nSu dirección completa es:\")\n",
    "print(direccion_completa)\n",
    "\n",
    "\n"
   ]
  },
  {
   "cell_type": "markdown",
   "metadata": {},
   "source": [
    "## Ejercicio 3\n",
    "¿Qué variables están mal escritas y por qué? Realiza primero tu hipótesis y luego ejecuta las variables para comprobarlo. En ese orden :)\n",
    "\n",
    "\n",
    "1. mi_variable = \"Economía\"\n",
    "2. otra_var = \"Ejercicio\n",
    "3. True = \"Ejercicio\"\n",
    "4. mi variab1e = \"Alpha\"\n",
    "5. import = 40\n",
    "6. 81mi_variable = \"Agua\"\n",
    "7. mi_variable10 = 6"
   ]
  },
  {
   "cell_type": "code",
   "execution_count": 29,
   "metadata": {},
   "outputs": [
    {
     "ename": "SyntaxError",
     "evalue": "unterminated string literal (detected at line 2) (1067284540.py, line 2)",
     "output_type": "error",
     "traceback": [
      "  \u001b[36mCell\u001b[39m\u001b[36m \u001b[39m\u001b[32mIn[29]\u001b[39m\u001b[32m, line 2\u001b[39m\n\u001b[31m    \u001b[39m\u001b[31m2. otra_var = \"Ejercicio\u001b[39m\n                  ^\n\u001b[31mSyntaxError\u001b[39m\u001b[31m:\u001b[39m unterminated string literal (detected at line 2)\n"
     ]
    }
   ],
   "source": [
    "1. mi_variable = \"Economía\"\n",
    "2. otra_var = \"Ejercicio\n",
    "3. True = \"Ejercicio\"\n",
    "4. mi variab1e = \"Alpha\"\n",
    "5. import = 40\n",
    "6. 81mi_variable = \"Agua\"\n",
    "7. mi_variable10 = 6"
   ]
  },
  {
   "cell_type": "code",
   "execution_count": null,
   "metadata": {},
   "outputs": [
    {
     "ename": "SyntaxError",
     "evalue": "unterminated string literal (detected at line 4) (1481880439.py, line 4)",
     "output_type": "error",
     "traceback": [
      "  \u001b[36mCell\u001b[39m\u001b[36m \u001b[39m\u001b[32mIn[31]\u001b[39m\u001b[32m, line 4\u001b[39m\n\u001b[31m    \u001b[39m\u001b[31m2. otra_var = \"Ejercicio\u001b[39m\n                  ^\n\u001b[31mSyntaxError\u001b[39m\u001b[31m:\u001b[39m unterminated string literal (detected at line 4)\n"
     ]
    }
   ],
   "source": [
    "1. mi_variable = \"Economía\" #está bien \n",
    "\n",
    "#le falta cierre de comilla\n",
    "\n",
    "2. otra_var = \"Ejercicio \n",
    "\n",
    "#debería ser al reves?\n",
    "\n",
    "#no se puede usar como nombre de variable\n",
    "3. True = \"Ejercicio\"  \n",
    "\n",
    "#esta bien\n",
    "4. mi variab1e = \"Alpha\" \n",
    "\n",
    "#esta bien\n",
    "5. import = 40 #esta bien\n",
    "\n",
    "#no debe comenzar con numero\n",
    "6. 81mi_variable = \"Agua\"\n",
    "\n",
    "#lo veo bien\n",
    "7. mi_variable10 = 6 #lo veo bien"
   ]
  },
  {
   "cell_type": "markdown",
   "metadata": {},
   "source": [
    "## Ejercicio 4\n",
    "Realiza un conversor de grados Celsius a Fahrenheit. El conversor tiene que recibir el input del usuario y devolver la conversión.\n",
    "\n",
    "La conversión de grados sigue la siguiente fórmula: F = C × (9 / 5) + 32 "
   ]
  },
  {
   "cell_type": "code",
   "execution_count": 37,
   "metadata": {},
   "outputs": [
    {
     "name": "stdout",
     "output_type": "stream",
     "text": [
      "Gracias! si la temperatura es 33.2°C, en Fahrenheit es 91.76°F\n"
     ]
    }
   ],
   "source": [
    "#Conversor de Celsius a Farenheit\n",
    "\n",
    "# Input de grados Celsius\n",
    "gradosC = float(input(\"Por favor, ingrese grados Celsius: \"))\n",
    "\n",
    "# Conversión con la fórmula\n",
    "gradosF = gradosC * (9 / 5) + 32\n",
    "\n",
    "# Output del resultado\n",
    "print(f\"Gracias! si la temperatura es {gradosC}°C, en Fahrenheit es {gradosF}°F\")"
   ]
  },
  {
   "cell_type": "code",
   "execution_count": 13,
   "metadata": {},
   "outputs": [
    {
     "name": "stdout",
     "output_type": "stream",
     "text": [
      "Gracias! si la temperatura es 3.7°C, en Fahrenheit es 38.66°F\n"
     ]
    }
   ],
   "source": [
    "#Conversor de Celsius a Farenheit\n",
    "\n",
    "# Input de grados Celsius #aquí agregué replace para se conviertacoma a punto\n",
    "\n",
    "gradosC = float(input(\"Por favor, ingrese grados Celsius: \") .replace(\",\",\".\"))\n",
    "\n",
    "# Conversión con la fórmula\n",
    "gradosF = gradosC * (9 / 5) + 32\n",
    "\n",
    "# Output del resultado\n",
    "print(f\"Gracias! si la temperatura es {gradosC}°C, en Fahrenheit es {gradosF}°F\")"
   ]
  },
  {
   "cell_type": "markdown",
   "metadata": {},
   "source": [
    "## Ejercicio 5\n",
    "Comenta  el Ejercicio 4. Pon un comentario multilinea y haz comentarios de cada linea de código. Indica cuál es el input y el output de tu código."
   ]
  },
  {
   "cell_type": "code",
   "execution_count": null,
   "metadata": {},
   "outputs": [],
   "source": [
    "\n",
    "# aquí le pido al usuario que escriba los grados Celsius\n",
    "gradosC = float(input(\"Ingrese grados Celsius: \"))\n",
    "\n",
    "# aplico la fórmula de conversión (C * 9/5 + 32)\n",
    "gradosF = gradosC * (9 / 5) + 32\n",
    "\n",
    "# muestro el resultado al usuario\n",
    "print(f\"Si la temperatura es {gradosC}°C, en Fahrenheit es {gradosF}°F\")"
   ]
  }
 ],
 "metadata": {
  "kernelspec": {
   "display_name": "Python 3",
   "language": "python",
   "name": "python3"
  },
  "language_info": {
   "codemirror_mode": {
    "name": "ipython",
    "version": 3
   },
   "file_extension": ".py",
   "mimetype": "text/x-python",
   "name": "python",
   "nbconvert_exporter": "python",
   "pygments_lexer": "ipython3",
   "version": "3.11.4"
  },
  "nbTranslate": {
   "displayLangs": [
    "*"
   ],
   "hotkey": "alt-t",
   "langInMainMenu": true,
   "sourceLang": "en",
   "targetLang": "fr",
   "useGoogleTranslate": true
  },
  "varInspector": {
   "cols": {
    "lenName": 16,
    "lenType": 16,
    "lenVar": 40
   },
   "kernels_config": {
    "python": {
     "delete_cmd_postfix": "",
     "delete_cmd_prefix": "del ",
     "library": "var_list.py",
     "varRefreshCmd": "print(var_dic_list())"
    },
    "r": {
     "delete_cmd_postfix": ") ",
     "delete_cmd_prefix": "rm(",
     "library": "var_list.r",
     "varRefreshCmd": "cat(var_dic_list()) "
    }
   },
   "types_to_exclude": [
    "module",
    "function",
    "builtin_function_or_method",
    "instance",
    "_Feature"
   ],
   "window_display": false
  }
 },
 "nbformat": 4,
 "nbformat_minor": 4
}
